{
 "cells": [
  {
   "cell_type": "code",
   "execution_count": 53,
   "metadata": {},
   "outputs": [],
   "source": [
    "import mysql.connector\n",
    "from mysql.connector import Error\n",
    "import json, csv\n"
   ]
  },
  {
   "cell_type": "code",
   "execution_count": 2,
   "metadata": {},
   "outputs": [],
   "source": [
    "# Connect to MySQL\n",
    "\n",
    "try:\n",
    "    mydb = mysql.connector.connect(host='localhost', user='root', \n",
    "                        auth_plugin='mysql_native_password',\n",
    "                        password='=~n4+5KVeNL-8c#')#give ur username, password\n",
    "except Error as e:\n",
    "    print(\"Error while connecting to MySQL\", e)\n",
    "        "
   ]
  },
  {
   "cell_type": "code",
   "execution_count": 3,
   "metadata": {},
   "outputs": [],
   "source": [
    "#create new mysql database and use it\n",
    "if mydb.is_connected():\n",
    "        # uncomment this line if running for the first time\n",
    "        # try:\n",
    "                # cursor.execute(\"CREATE DATABASE VideoGameSales\") \n",
    "                # print(\"Database is created\")\n",
    "        # except Error as e:\n",
    "                # print(\"Error creating database: \", e)\n",
    "        cursor = mydb.cursor()\n",
    "        cursor.execute(\"USE videogamesales\")"
   ]
  },
  {
   "cell_type": "code",
   "execution_count": 6,
   "metadata": {},
   "outputs": [],
   "source": [
    "#import data from relational database\n",
    "try:\n",
    "    cursor.execute(\"DROP TABLE IF EXISTS rdbdata\")\n",
    "    cursor.execute(\"CREATE TABLE rdbdata SELECT * FROM `rdb-vgsales`.genres\")\n",
    "except Error as e:\n",
    "    print(\"Error fetching data from the relational database: \", e)"
   ]
  },
  {
   "cell_type": "code",
   "execution_count": 19,
   "metadata": {},
   "outputs": [
    {
     "name": "stdout",
     "output_type": "stream",
     "text": [
      "_id VARCHAR(255), release_year VARCHAR(255), genre VARCHAR(255), region VARCHAR(255), sales FLOAT\n"
     ]
    }
   ],
   "source": [
    "# Load the JSON data from the nosql database\n",
    "with open('gamesmongo.json', 'r') as f:\n",
    "    data = json.load(f)\n",
    "\n",
    "# Create a new table with columns based on the JSON data\n",
    "sql_columns = []\n",
    "for key in data[0].keys():\n",
    "    if key =='sales':\n",
    "        sql_columns.append(f\"{key} FLOAT\")\n",
    "    else:\n",
    "        sql_columns.append(f\"{key} VARCHAR(255)\")\n",
    "sql_columns = ', '.join(sql_columns)\n",
    "print('column names: ', sql_columns)\n",
    "\n",
    "# Create table to store values\n",
    "try:\n",
    "    cursor.execute(\"DROP TABLE IF EXISTS nosql_data\")\n",
    "    cursor.execute(f\"CREATE TABLE nosql_data ({sql_columns})\")\n",
    "except Error as e:\n",
    "    print(\"Error creating table for data from the nosql database: \", e)\n",
    "\n",
    "# insert data into the new table\n",
    "try:\n",
    "    for item in data:\n",
    "        id = str(item['_id']['$oid'])\n",
    "        release_year = str(item['release_year'])\n",
    "        genre = str(item['genre'])\n",
    "        region = str(item['region'])\n",
    "        sales = float(item['sales'])\n",
    "\n",
    "        cursor.execute(f\"INSERT INTO nosql_data (_id, release_year, genre, region, sales) VALUES ('{id}', '{release_year}', '{genre}', '{region}', {sales})\")\n",
    "except Error as e:\n",
    "    print(\"Error importing data from the nosql database: \", e)\n",
    "\n",
    "# Commit the changes\n",
    "mydb.commit()\n"
   ]
  },
  {
   "cell_type": "code",
   "execution_count": 48,
   "metadata": {},
   "outputs": [
    {
     "name": "stdout",
     "output_type": "stream",
     "text": [
      "CREATE TABLE csvData (Ranking VARCHAR(255), Game VARCHAR(255), Platform VARCHAR(255), release_year VARCHAR(255), Genre VARCHAR(255), Publisher VARCHAR(255), NA_Sales VARCHAR(255), EU_Sales VARCHAR(255), JP_Sales VARCHAR(255), Other_Sales VARCHAR(255), Global_Sales VARCHAR(255))\n"
     ]
    }
   ],
   "source": [
    "#Upload data froma csv\n",
    "\n",
    "with open('vgsales.csv', 'r') as csvfile:\n",
    "    # Read the CSV file\n",
    "    csvreader = csv.reader(csvfile)\n",
    "    # Skip the header row\n",
    "    header = next(csvreader)\n",
    "    sql_columns = []\n",
    "    for column in header:\n",
    "        if 'sales' in column:\n",
    "            sql_columns.append(f\"{column} FLOAT\")\n",
    "        else:\n",
    "            sql_columns.append(f\"{column} VARCHAR(255)\")\n",
    "    sql_columns = ', '.join(sql_columns)\n",
    "    header = \", \".join([value for value in header])\n",
    "\n",
    "    #create table for csv data\n",
    "    try:\n",
    "        cursor.execute(\"DROP TABLE IF EXISTS csvData\")\n",
    "        sql =  f\"CREATE TABLE csvData ({sql_columns})\"\n",
    "        print(sql)\n",
    "        cursor.execute(sql)\n",
    "    except Error as e:\n",
    "        print(\"Error creating table for data from the csv data: \", e)\n",
    "\n",
    "    # Loop through the rows in the CSV file\n",
    "    try:\n",
    "        for row in csvreader:\n",
    "            # Insert the row into the MySQL database\n",
    "            row[1] = row[1].replace(\"'\", r\"\\'\")\n",
    "            row[5] = row[5].replace(\"'\", r\"\\'\")\n",
    "            strings = \"\".join([f\"'{value}', \" for value in row[:6]])\n",
    "            numbers = \", \".join([f\"{float(value)}\" for value in row[6:]])\n",
    "            sql = f\"INSERT INTO csvData ({header}) VALUES ({strings}{numbers})\"\n",
    "            cursor.execute(sql)\n",
    "        mydb.commit()\n",
    "    except Error as e:\n",
    "        print(sql)\n",
    "        print(\"Error importing data from csv: \", e)"
   ]
  },
  {
   "cell_type": "code",
   "execution_count": 54,
   "metadata": {},
   "outputs": [
    {
     "name": "stdout",
     "output_type": "stream",
     "text": [
      "Total sales for each genre:  [('Sports', 46558385.918456875), ('Platform', 18865104.531691648), ('Racing', 24878845.848329213), ('Role-Playing', 29855384.80606742), ('Puzzle', 11217049.974546826), ('Misc', 33822456.943713434), ('Shooter', 27144777.88788956), ('Simulation', 16817380.37188074), ('Action', 65300763.20961894), ('Fighting', 16704134.212127607), ('Adventure', 23608668.52769928), ('Strategy', 12690969.833614325)]\n"
     ]
    }
   ],
   "source": [
    "# write some queries to test the data mart\n",
    "\n",
    "# What is the total sales for each genre?\n",
    "try:\n",
    "    cursor.execute(\"SELECT csvData.genre, SUM(NA_Sales + EU_Sales+ JP_Sales+ Other_Sales+ Global_Sales + sales) AS total_sales FROM csvData inner Join nosql_data GROUP BY csvData.genre\")\n",
    "    result = cursor.fetchall()\n",
    "    print('Total sales for each genre: ', result)\n",
    "except Error as e:\n",
    "    print(\"Error running query: \", e)"
   ]
  },
  {
   "cell_type": "code",
   "execution_count": 56,
   "metadata": {},
   "outputs": [
    {
     "name": "stdout",
     "output_type": "stream",
     "text": [
      "Total sales for each region:  [('North America', 4341.690005583689), ('European Union', 2399.6799919568), ('Japan', 1290.700002539903), ('Other', 782.6499985102564), ('Worldwide', 8818.919992174953)]\n"
     ]
    }
   ],
   "source": [
    "# What region had the most sales?\n",
    "try:\n",
    "    cursor.execute(\"SELECT region, SUM(sales) AS total_sales FROM nosql_data GROUP BY region\")\n",
    "    result = cursor.fetchall()\n",
    "    print('Total sales for each region: ', result)\n",
    "except Error as e:\n",
    "    print(\"Error running query: \", e)"
   ]
  },
  {
   "cell_type": "code",
   "execution_count": 61,
   "metadata": {},
   "outputs": [
    {
     "name": "stdout",
     "output_type": "stream",
     "text": [
      "Average Rating for each genre (critic is out of 100, user is out of 10):  [('Sports', Decimal('71.9682'), 5.06477572559367), ('Platform', Decimal('68.0584'), 5.511463844797178), ('Racing', Decimal('67.9636'), 5.160411899313506), ('Role-Playing', Decimal('72.6526'), 7.323803363518762), ('Puzzle', Decimal('67.4241'), 2.7091445427728607), ('Misc', Decimal('66.6195'), 3.371283783783784), ('Shooter', Decimal('70.1811'), 6.360410557184758), ('Simulation', Decimal('68.6193'), 4.21701030927835), ('Action', Decimal('66.6291'), 5.851722574796006), ('Fighting', Decimal('69.2176'), 6.652283105022839), ('Adventure', Decimal('65.3313'), 4.662091503267976), ('Strategy', Decimal('72.0861'), 6.482285714285712), (None, None, None)]\n"
     ]
    }
   ],
   "source": [
    "# Which genre had the best ratings?\n",
    "try:\n",
    "    cursor.execute(\"SELECT genre, AVG(Critic_Score), AVG(User_Score) FROM rdbdata GROUP BY genre\")\n",
    "    result = cursor.fetchall()\n",
    "    print('Average Rating for each genre (critic is out of 100, user is out of 10): ', result)\n",
    "except Error as e:\n",
    "    print(\"Error running query: \", e)"
   ]
  }
 ],
 "metadata": {
  "kernelspec": {
   "display_name": "ds",
   "language": "python",
   "name": "python3"
  },
  "language_info": {
   "codemirror_mode": {
    "name": "ipython",
    "version": 3
   },
   "file_extension": ".py",
   "mimetype": "text/x-python",
   "name": "python",
   "nbconvert_exporter": "python",
   "pygments_lexer": "ipython3",
   "version": "3.11.1"
  },
  "orig_nbformat": 4
 },
 "nbformat": 4,
 "nbformat_minor": 2
}
